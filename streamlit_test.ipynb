{
 "cells": [
  {
   "cell_type": "code",
   "execution_count": 1,
   "metadata": {},
   "outputs": [],
   "source": [
    "import streamlit as st\n",
    "import datetime\n",
    "import joblib\n",
    "import pandas as pd\n",
    "import category_encoders as ce"
   ]
  },
  {
   "cell_type": "code",
   "execution_count": 6,
   "metadata": {},
   "outputs": [],
   "source": [
    "st.write(\"Churn Prediction - Prediction using Random Forest\")\n",
    "\n",
    "gender = st.selectbox(\"Enter the gender\",[\"Male\", \"Female\"])\n",
    "\n",
    "# getting user inputgender = col1.selectbox(\"Enter your gender\",[\"Male\", \"Female\"])\n",
    "\n",
    "age = st.number_input(\"Enter the age\")\n",
    "\n",
    "region_category = st.selectbox(\"Enter the region\",['City', 'Town', 'Village'])\n",
    "\n",
    "membership_category = st.selectbox(\"Enter the membership\",\n",
    "                      ['No Membership', 'Gold Membership', 'Silver Membership',\n",
    "       'Basic Membership', 'Premium Membership', 'Platinum Membership'])\n",
    "\n",
    "#joining_date = st.date_input('Joining Date', value='datetime.date')\n",
    "\n",
    "joined_through_referral = st.selectbox('Joined through referral?',[\"Yes\",\"No\"])\n",
    "\n",
    "preferred_offer_types = st.selectbox('Preferred offer? ', ['Without Offers', 'Gift Vouchers/Coupons',\n",
    "       'Credit/Debit Card Offers'])\n",
    "\n",
    "days_since_last_login = st.number_input('Days since last login: ')\n",
    "\n",
    "avg_time_spent = st.number_input('Average time spent: ')\n",
    "\n",
    "avg_transaction_value = st.number_input('Average transactional value: ')\n",
    "\n",
    "feedback = st.selectbox('Feedback: ', ['Poor Product Quality', 'Too many ads', 'Poor Customer Service',\n",
    "       'No reason specified', 'Poor Website', 'Quality Customer Care',\n",
    "       'User Friendly Website', 'Reasonable Price',\n",
    "       'Products always in Stock'])\n",
    "\n",
    "\n",
    "\n",
    "df_pred = pd.DataFrame([[age, gender, region_category, membership_category,\n",
    "                          joined_through_referral, preferred_offer_types,\n",
    "       days_since_last_login, avg_time_spent, avg_transaction_value,\n",
    "       feedback]], columns = ['age', 'gender', 'region_category', 'membership_category',\n",
    "       'joined_through_referral', 'preferred_offer_types',\n",
    "       'days_since_last_login', 'avg_time_spent', 'avg_transaction_value',\n",
    "       'feedback'])\n"
   ]
  },
  {
   "cell_type": "code",
   "execution_count": 4,
   "metadata": {},
   "outputs": [],
   "source": [
    "numerical = df_pred._get_numeric_data().columns\n",
    "categorical = list(set(df_pred.columns) - set(numerical))\n",
    "encoder = ce.OrdinalEncoder(categorical)\n",
    "df_pred = encoder.fit_transform(df_pred)\n",
    "model = joblib.load('random_model.pkl')\n",
    "prediction = model.predict(df_pred)"
   ]
  },
  {
   "cell_type": "code",
   "execution_count": 7,
   "metadata": {},
   "outputs": [
    {
     "data": {
      "text/plain": [
       "age                        float64\n",
       "gender                      object\n",
       "region_category             object\n",
       "membership_category         object\n",
       "joined_through_referral     object\n",
       "preferred_offer_types       object\n",
       "days_since_last_login      float64\n",
       "avg_time_spent             float64\n",
       "avg_transaction_value      float64\n",
       "feedback                    object\n",
       "dtype: object"
      ]
     },
     "execution_count": 7,
     "metadata": {},
     "output_type": "execute_result"
    }
   ],
   "source": [
    "df_pred.dtypes"
   ]
  },
  {
   "cell_type": "code",
   "execution_count": 3,
   "metadata": {},
   "outputs": [],
   "source": [
    "if st.button('Churn Prediction!'):\n",
    "    st.write('Your churn rate is: ', prediction[0])"
   ]
  },
  {
   "cell_type": "code",
   "execution_count": null,
   "metadata": {},
   "outputs": [],
   "source": []
  }
 ],
 "metadata": {
  "kernelspec": {
   "display_name": "base",
   "language": "python",
   "name": "python3"
  },
  "language_info": {
   "codemirror_mode": {
    "name": "ipython",
    "version": 3
   },
   "file_extension": ".py",
   "mimetype": "text/x-python",
   "name": "python",
   "nbconvert_exporter": "python",
   "pygments_lexer": "ipython3",
   "version": "3.8.8"
  },
  "orig_nbformat": 4
 },
 "nbformat": 4,
 "nbformat_minor": 2
}
